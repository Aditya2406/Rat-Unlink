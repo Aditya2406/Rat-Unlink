{
 "cells": [
  {
   "cell_type": "code",
   "execution_count": 6,
   "metadata": {},
   "outputs": [],
   "source": [
    "import csv\n",
    "import re\n",
    "import pandas as pd\n",
    "\n",
    "def capture_pattern_from_csv(csv_file, column_name):\n",
    "    pattern_list = []\n",
    "    with open(csv_file, 'r') as file:\n",
    "        reader = csv.DictReader(file)\n",
    "        for row in reader:\n",
    "            value = row[column_name]\n",
    "            pattern_list.append(value)\n",
    "    return pattern_list\n",
    "\n",
    "def match_patterns_with_string(string, pattern_list):\n",
    "    matches = []\n",
    "    for pattern in pattern_list:\n",
    "        if string == pattern:\n",
    "            matches.append(pattern)\n",
    "    return matches\n",
    "\n",
    "# Example usage:\n",
    "csv_file = r'C:\\Users\\adity\\OneDrive\\Desktop\\Projects\\Reconcillation_Reccomendation\\Data\\1st-Aquirer.csv'  # Path to your CSV file\n",
    "csv_file_path = r'C:\\Users\\adity\\OneDrive\\Desktop\\Projects\\Reconcillation_Reccomendation\\Data\\1st-Aquirer.csv'  # Path to your CSV file\n",
    "\n",
    "csv_file = pd.read_csv(csv_file)\n",
    "\n",
    "re_column_list_file1=[]\n",
    "for i in csv_file.columns:\n",
    "    patterns = capture_pattern_from_csv(csv_file_path, i)\n",
    "    re_column_list_file1.append(patterns)\n",
    "    "
   ]
  },
  {
   "cell_type": "code",
   "execution_count": 7,
   "metadata": {},
   "outputs": [],
   "source": [
    "# Example usage:\n",
    "csv_file = r'C:\\Users\\adity\\OneDrive\\Desktop\\Projects\\Reconcillation_Reccomendation\\Data\\ConstantFields\\ID.csv'  # Path to your CSV file\n",
    "csv_file_path = r'C:\\Users\\adity\\OneDrive\\Desktop\\Projects\\Reconcillation_Reccomendation\\Data\\ConstantFields\\ID.csv'  # Path to your CSV file\n",
    "csv_file = pd.read_csv(csv_file)\n",
    "re_column_list_ID=[]\n",
    "for i in csv_file.columns:\n",
    "    patterns = capture_pattern_from_csv(csv_file_path, i)\n",
    "    re_column_list_ID.append(patterns)"
   ]
  },
  {
   "cell_type": "code",
   "execution_count": 29,
   "metadata": {},
   "outputs": [],
   "source": [
    "# Example usage:\n",
    "csv_file_path = r'C:\\Users\\adity\\OneDrive\\Desktop\\Projects\\Reconcillation_Reccomendation\\Data\\ConstantFields\\Amount.csv'  # Path to your CSV file\n",
    "csv_file = pd.read_csv(csv_file_path)\n",
    "re_column_list_Amount=[]\n",
    "for i in csv_file.columns:\n",
    "    patterns = capture_pattern_from_csv(csv_file_path, i)\n",
    "    re_column_list_Amount.append(patterns)"
   ]
  },
  {
   "cell_type": "code",
   "execution_count": 30,
   "metadata": {},
   "outputs": [
    {
     "name": "stdout",
     "output_type": "stream",
     "text": [
      "[['9,400', '9,400', '4,356', '4,356', '4,800', '4,800', '11,400', '11,400', '86,460', '14,850', '14,850', '29,700', '29,700', '17,600', '17,600', '21,450', '21,450', '9,400', '9,400', '100', '11,000', '11,000', '19,800', '19,800', '11,000', '11,000', '71,500', '71,500', '36,300', '36,300', '4,800', '4,800', '14,850', '14,850', '14,850', '14,850', '19,800', '19,800', '17,600', '17,600', '25,850', '25,850', '10,400', '10,400', '15,400', '15,400', '17,050', '17,050', '18,700', '18,700', '17,600', '17,600', '41,800', '41,800', '16,500', '16,500', '15,400', '14,300', '14,300', '18,150', '18,150', '10,400', '10,400', '9,400', '9,400', '97,130', '97,130', '67,430', '67,430', '1,550', '1,550', '9,350', '9,350', '13,900', '13,900', '11,400', '11,400', '4,400', '4,400', '14,300', '14,300', '25,850', '25,850', '15,400', '15,400', '15,950', '15,950', '63,600', '63,600', '14,900', '14,900', '14,900', '15,900', '15,900', '9,900', '9,900', '18,700', '18,700', '14,850', '14,850', '13,400', '13,400', '16,500', '16,500', '19,800', '19,800', '61,480', '61,480', '58,300', '58,300', '17,600', '17,600', '24,750', '24,750', '19,800', '19,800', '23,650', '23,650', '12,650', '12,650', '14,850', '14,850', '13,200', '13,200', '18,700', '18,700', '15,400', '15,400', '18,700', '18,700', '17,600', '17,600', '16,500', '16,500', '19,250', '19,250', '14,300', '14,300', '12,100', '12,100', '12,100', '12,100', '16,500', '16,500', '16,500', '16,500', '16500', '16500', '16500', '16500', '12100', '12100', '12100', '12100', '14300', '14300', '50000', '167000', '163000', '19250', '19250', '16500', '16500', '14850', '14850', '44600', '4800', '4800', '91600', '224400', '79800', '36300', '36300', '71500', '71500', '11000', '11000', '19800', '19800', '11000', '11000', '25850', '36520', '77100', '25850', '100', '100', '100', '11000', '9400', '9400', '21450', '21450', '17600', '17600', '29700', '29700', '14850', '14850', '59600', '86460', '11400', '11400', '4800', '4800', '124320', '205400', '69800', '9990', '4356', '4356', '9400', '9400', '60500', '39800', '124320', '14300', '14300', '15400', '4400', '4400', '29900', '15400', '130000', '71800', '74600', '24750', '24750', '18700', '18700', '11400', '14850', '11400', '11000', '14850', '13900', '13900', '99680', '9900', '9900', '9350', '18700', '9350', '1550', '15900', '1550', '12650', '15900', '17600', '12650', '18700', '17600', '67430', '67430', '58300', '58300', '14900', '14900', '71500', '14900', '97130', '97130', '9400', '9400', '10400', '10400', '18150', '18150', '14300', '14300', '18700', '15400', '16500', '16500', '41800', '41800', '148500', '109800', '17600', '17600', '18700', '18700', '17050', '17050', '61480', '61480', '99680', '63600', '63600', '18700', '36740', '17600', '15400', '15400', '68600', '19800', '19800', '10400', '10400', '25850', '25850', '17600', '17600', '23650', '23650', '109800', '99900', '13200', '39800', '16500', '16500', '13200', '15950', '15950', '59600', '15400', '15400', '19800', '13400', '19800', '13400', '14850', '19800', '14850', '17600', '19800', '31300', '14850', '14850', '17050', '17050', '21780', '21780', '21780', '47850', '47850', '18700', '18700', '16500', '16500', '17380', '17380', '26400', '26400', '15950', '15950', '19250', '19250', '63600', '63600', '23100', '23100', '13200', '13200', '20900', '20900', '9900', '18150', '18150', '17600', '17600', '11000', '11000', '102300', '9900', '9900', '24800', '124320', '27500', '132160', '137600', '133280', '9990', '13900', '13900', '244400', '67100', '234400', '49800', '41700', '99330', '149600', '99000', '15400', '54230', '99330', '17600', '17600', '31300', '99660', '79800', '13000', '13000', '130130', '39930', '16390', '16390', '199870', '29150', '1980', '9400', '1980', '9400', '19800', '27830', '239400', '95400', '19040', '79520', '149600', '149600', '10400', '10400', '22800', '22800', '250000', '250000', '14900', '14900', '5500', '5500', '1210', '1210', '39800', '67600', '10400', '10400', '16400', '49800', '16400', '12650', '12650', '239400', '15400', '11900', '11900', '28930', '137500', '200000', '200000', '39800', '31300', '159600', '41300', '109800', '36400', '229416', '229416', '136400', '98384', '98384', '136400', '136400', '136400', '136400', '35530', '35530', '250000', '250000', '83930', '83930', '22000', '22000', '99800', '39930', '39930', '13200', '13200', '39800', '236600', '149600', '49800', '95260', '149600', '8900', '8900', '57200', '19800', '19800', '22000', '22000', '13000', '13000', '96800', '144400', '49800', '20900', '20900', '89760', '89760', '48200', '198840', '40700', '40700', '17600', '17600', '34600', '149600', '135100', '22000', '22000', '15950', '15950', '104600', '99800', '51300', '20900', '20900', '114600', '14900', '89600', '62500', '59990', '42900', '99800', '99800', '149600', '16500', '28600', '28600', '14300', '14300', '57200', '57200', '31300', '9900', '9900']]\n"
     ]
    }
   ],
   "source": [
    "print(re_column_list_Amount)"
   ]
  },
  {
   "cell_type": "code",
   "execution_count": 32,
   "metadata": {},
   "outputs": [],
   "source": [
    "def jaccard_similarity(patterns_list1, patterns_list2):\n",
    "    intersection = len(set(patterns_list1).intersection(patterns_list2))\n",
    "    union = len(set(patterns_list1).union(patterns_list2))\n",
    "    similarity = intersection / union\n",
    "    return similarity * 100\n",
    "\n",
    "\n",
    "def Match_Common_field_with_file(Common_Field_re,file_column_array):\n",
    "    re_score=[]\n",
    "    for i in file_column_array:\n",
    "        similarity_percentage = jaccard_similarity(i, Common_Field_re)\n",
    "        print(\"Percentage of similarity  +\"+ \"\", similarity_percentage)\n",
    "        re_score.append(similarity_percentage)\n",
    "    return re_score\n",
    "    "
   ]
  },
  {
   "cell_type": "code",
   "execution_count": 35,
   "metadata": {},
   "outputs": [
    {
     "name": "stdout",
     "output_type": "stream",
     "text": [
      "Percentage of similarity  + 0.0\n",
      "Percentage of similarity  + 0.0\n",
      "Percentage of similarity  + 0.0\n",
      "Percentage of similarity  + 0.0\n",
      "Percentage of similarity  + 0.0\n",
      "Percentage of similarity  + 0.0\n",
      "Percentage of similarity  + 0.0\n",
      "Percentage of similarity  + 0.0\n",
      "Percentage of similarity  + 23.118279569892472\n",
      "Percentage of similarity  + 0.0\n",
      "Percentage of similarity  + 0.0\n",
      "Percentage of similarity  + 0.0\n",
      "Percentage of similarity  + 0.0\n",
      "Percentage of similarity  + 0.0\n",
      "Percentage of similarity  + 0.0\n",
      "Percentage of similarity  + 0.0\n",
      "Percentage of similarity  + 0.0\n",
      "Percentage of similarity  + 0.0\n",
      "Percentage of similarity  + 0.0\n",
      "Percentage of similarity  + 0.0\n",
      "Percentage of similarity  + 0.0\n",
      "Percentage of similarity  + 0.0\n",
      "Percentage of similarity  + 0.0\n"
     ]
    }
   ],
   "source": [
    "Amount_score=Match_Common_field_with_file(re_column_list_Amount[0],re_column_list_file1)"
   ]
  },
  {
   "cell_type": "code",
   "execution_count": 37,
   "metadata": {},
   "outputs": [
    {
     "name": "stdout",
     "output_type": "stream",
     "text": [
      "Merchant ID-----------0.0\n",
      "Order ID-----------0.0\n",
      "Order Reference-----------0.0\n",
      "Transaction ID-----------0.0\n",
      "Acquirer ID-----------0.0\n",
      "Transaction Date-----------0.0\n",
      "Payment Method-----------0.0\n",
      "Transaction Type-----------0.0\n",
      "Transaction Amount (amount only)-----------23.118279569892472\n",
      "Transaction Amount (currency only)-----------0.0\n",
      "Transaction Gateway Response Code-----------0.0\n",
      "Account Identifier-----------0.0\n",
      "Account Holder-----------0.0\n",
      "Authorization Code-----------0.0\n",
      "Acquirer Response Code-----------0.0\n",
      "Acquirer Batch Number-----------0.0\n",
      "Transaction Source-----------0.0\n",
      "AVS Gateway Response Code-----------0.0\n",
      "CSC Gateway Response Code-----------0.0\n",
      "Payer Authentication -  Authentication Status-----------0.0\n",
      "Payer Authentication - 3DS ACS ECI-----------0.0\n",
      "Reference Retrieval Number (RRN)-----------0.0\n",
      "User ID-----------0.0\n"
     ]
    }
   ],
   "source": [
    "csv_file_path = r'C:\\Users\\adity\\OneDrive\\Desktop\\Projects\\Reconcillation_Reccomendation\\Data\\1st-Aquirer.csv'  # Path to your CSV file\n",
    "csv_file = pd.read_csv(csv_file_path)\n",
    "col=csv_file.columns.tolist()\n",
    "for i in range(len(csv_file.columns.tolist())):\n",
    "    print(str(col[i])+\"-----------\"+str(Amount_score[i]))\n",
    "    "
   ]
  },
  {
   "cell_type": "code",
   "execution_count": null,
   "metadata": {},
   "outputs": [],
   "source": []
  }
 ],
 "metadata": {
  "kernelspec": {
   "display_name": "RatEnv",
   "language": "python",
   "name": "python3"
  },
  "language_info": {
   "codemirror_mode": {
    "name": "ipython",
    "version": 3
   },
   "file_extension": ".py",
   "mimetype": "text/x-python",
   "name": "python",
   "nbconvert_exporter": "python",
   "pygments_lexer": "ipython3",
   "version": "3.12.1"
  }
 },
 "nbformat": 4,
 "nbformat_minor": 2
}
